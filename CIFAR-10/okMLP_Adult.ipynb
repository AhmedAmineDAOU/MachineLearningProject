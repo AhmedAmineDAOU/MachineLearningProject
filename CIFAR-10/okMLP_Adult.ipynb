{
 "cells": [
  {
   "cell_type": "markdown",
   "metadata": {},
   "source": [
    "# Multilayer perceptron on Adult"
   ]
  },
  {
   "cell_type": "markdown",
   "metadata": {},
   "source": [
    "## Imports"
   ]
  },
  {
   "cell_type": "code",
   "execution_count": 64,
   "metadata": {},
   "outputs": [],
   "source": [
    "%matplotlib inline\n",
    "import matplotlib.pyplot as plt\n",
    "import pandas as pd\n",
    "import numpy as np"
   ]
  },
  {
   "cell_type": "markdown",
   "metadata": {},
   "source": [
    "## Loading data & printing shapes"
   ]
  },
  {
   "cell_type": "code",
   "execution_count": 65,
   "metadata": {},
   "outputs": [
    {
     "data": {
      "text/html": [
       "<div>\n",
       "<style scoped>\n",
       "    .dataframe tbody tr th:only-of-type {\n",
       "        vertical-align: middle;\n",
       "    }\n",
       "\n",
       "    .dataframe tbody tr th {\n",
       "        vertical-align: top;\n",
       "    }\n",
       "\n",
       "    .dataframe thead th {\n",
       "        text-align: right;\n",
       "    }\n",
       "</style>\n",
       "<table border=\"1\" class=\"dataframe\">\n",
       "  <thead>\n",
       "    <tr style=\"text-align: right;\">\n",
       "      <th></th>\n",
       "      <th>age</th>\n",
       "      <th>workclass</th>\n",
       "      <th>fnlwgt</th>\n",
       "      <th>education</th>\n",
       "      <th>educational-num</th>\n",
       "      <th>marital-status</th>\n",
       "      <th>occupation</th>\n",
       "      <th>relationship</th>\n",
       "      <th>race</th>\n",
       "      <th>gender</th>\n",
       "      <th>capital-gain</th>\n",
       "      <th>capital-loss</th>\n",
       "      <th>hours-per-week</th>\n",
       "      <th>native-country</th>\n",
       "      <th>income</th>\n",
       "    </tr>\n",
       "  </thead>\n",
       "  <tbody>\n",
       "    <tr>\n",
       "      <th>0</th>\n",
       "      <td>25</td>\n",
       "      <td>Private</td>\n",
       "      <td>226802</td>\n",
       "      <td>11th</td>\n",
       "      <td>7</td>\n",
       "      <td>Never-married</td>\n",
       "      <td>Machine-op-inspct</td>\n",
       "      <td>Own-child</td>\n",
       "      <td>Black</td>\n",
       "      <td>Male</td>\n",
       "      <td>0</td>\n",
       "      <td>0</td>\n",
       "      <td>40</td>\n",
       "      <td>United-States</td>\n",
       "      <td>&lt;=50K</td>\n",
       "    </tr>\n",
       "    <tr>\n",
       "      <th>1</th>\n",
       "      <td>38</td>\n",
       "      <td>Private</td>\n",
       "      <td>89814</td>\n",
       "      <td>HS-grad</td>\n",
       "      <td>9</td>\n",
       "      <td>Married-civ-spouse</td>\n",
       "      <td>Farming-fishing</td>\n",
       "      <td>Husband</td>\n",
       "      <td>White</td>\n",
       "      <td>Male</td>\n",
       "      <td>0</td>\n",
       "      <td>0</td>\n",
       "      <td>50</td>\n",
       "      <td>United-States</td>\n",
       "      <td>&lt;=50K</td>\n",
       "    </tr>\n",
       "    <tr>\n",
       "      <th>2</th>\n",
       "      <td>28</td>\n",
       "      <td>Local-gov</td>\n",
       "      <td>336951</td>\n",
       "      <td>Assoc-acdm</td>\n",
       "      <td>12</td>\n",
       "      <td>Married-civ-spouse</td>\n",
       "      <td>Protective-serv</td>\n",
       "      <td>Husband</td>\n",
       "      <td>White</td>\n",
       "      <td>Male</td>\n",
       "      <td>0</td>\n",
       "      <td>0</td>\n",
       "      <td>40</td>\n",
       "      <td>United-States</td>\n",
       "      <td>&gt;50K</td>\n",
       "    </tr>\n",
       "    <tr>\n",
       "      <th>3</th>\n",
       "      <td>44</td>\n",
       "      <td>Private</td>\n",
       "      <td>160323</td>\n",
       "      <td>Some-college</td>\n",
       "      <td>10</td>\n",
       "      <td>Married-civ-spouse</td>\n",
       "      <td>Machine-op-inspct</td>\n",
       "      <td>Husband</td>\n",
       "      <td>Black</td>\n",
       "      <td>Male</td>\n",
       "      <td>7688</td>\n",
       "      <td>0</td>\n",
       "      <td>40</td>\n",
       "      <td>United-States</td>\n",
       "      <td>&gt;50K</td>\n",
       "    </tr>\n",
       "    <tr>\n",
       "      <th>4</th>\n",
       "      <td>18</td>\n",
       "      <td>?</td>\n",
       "      <td>103497</td>\n",
       "      <td>Some-college</td>\n",
       "      <td>10</td>\n",
       "      <td>Never-married</td>\n",
       "      <td>?</td>\n",
       "      <td>Own-child</td>\n",
       "      <td>White</td>\n",
       "      <td>Female</td>\n",
       "      <td>0</td>\n",
       "      <td>0</td>\n",
       "      <td>30</td>\n",
       "      <td>United-States</td>\n",
       "      <td>&lt;=50K</td>\n",
       "    </tr>\n",
       "  </tbody>\n",
       "</table>\n",
       "</div>"
      ],
      "text/plain": [
       "   age  workclass  fnlwgt     education  educational-num      marital-status  \\\n",
       "0   25    Private  226802          11th                7       Never-married   \n",
       "1   38    Private   89814       HS-grad                9  Married-civ-spouse   \n",
       "2   28  Local-gov  336951    Assoc-acdm               12  Married-civ-spouse   \n",
       "3   44    Private  160323  Some-college               10  Married-civ-spouse   \n",
       "4   18          ?  103497  Some-college               10       Never-married   \n",
       "\n",
       "          occupation relationship   race  gender  capital-gain  capital-loss  \\\n",
       "0  Machine-op-inspct    Own-child  Black    Male             0             0   \n",
       "1    Farming-fishing      Husband  White    Male             0             0   \n",
       "2    Protective-serv      Husband  White    Male             0             0   \n",
       "3  Machine-op-inspct      Husband  Black    Male          7688             0   \n",
       "4                  ?    Own-child  White  Female             0             0   \n",
       "\n",
       "   hours-per-week native-country income  \n",
       "0              40  United-States  <=50K  \n",
       "1              50  United-States  <=50K  \n",
       "2              40  United-States   >50K  \n",
       "3              40  United-States   >50K  \n",
       "4              30  United-States  <=50K  "
      ]
     },
     "execution_count": 65,
     "metadata": {},
     "output_type": "execute_result"
    }
   ],
   "source": [
    "import pandas as pd\n",
    "from sklearn import preprocessing,cross_validation,neighbors\n",
    "df = pd.read_csv('adult.csv')\n",
    "df.head()"
   ]
  },
  {
   "cell_type": "markdown",
   "metadata": {},
   "source": [
    "## Data Traitement"
   ]
  },
  {
   "cell_type": "code",
   "execution_count": 66,
   "metadata": {},
   "outputs": [
    {
     "name": "stdout",
     "output_type": "stream",
     "text": [
      "(48842, 6)\n",
      "[[    25 226802      7 ...      0      0      0]\n",
      " [    38  89814      9 ...      1      0      0]\n",
      " [    28 336951     12 ...      1      0      0]\n",
      " ...\n",
      " [    58 151910      9 ...      1      1      0]\n",
      " [    22 201490      9 ...      1      0      0]\n",
      " [    52 287927      9 ...      1      1      0]]\n"
     ]
    }
   ],
   "source": [
    "#create matrix X and target vector y\n",
    "columns = ['age', 'fnlwgt', 'educational-num', 'capital-gain', 'capital-loss', 'hours-per-week']\n",
    "temp1=df['workclass']\n",
    "labels, uniques=pd.factorize(temp1)\n",
    "X0=np.array(labels) #workclass\n",
    "\n",
    "temp1=df['educational-num']\n",
    "labels, uniques=pd.factorize(temp1)\n",
    "X1=np.array(labels) #educational-num\n",
    "\n",
    "temp1=df['marital-status']\n",
    "labels, uniques=pd.factorize(temp1)\n",
    "X2=np.array(labels) #marital-status\n",
    "\n",
    "temp1=df['occupation']\n",
    "labels, uniques=pd.factorize(temp1)\n",
    "X3=np.array(labels) #occupation\n",
    "\n",
    "temp1=df['relationship']\n",
    "labels, uniques=pd.factorize(temp1)\n",
    "X4=np.array(labels) #relationship\n",
    "\n",
    "temp1=df['race']\n",
    "labels, uniques=pd.factorize(temp1)\n",
    "X5=np.array(labels) #race\n",
    "\n",
    "temp1=df['gender']\n",
    "labels, uniques=pd.factorize(temp1)\n",
    "X6=np.array(labels) #gender\n",
    "\n",
    "temp1=df['native-country']\n",
    "labels, uniques=pd.factorize(temp1)\n",
    "X7=np.array(labels) #native-country\n",
    "\n",
    "y = df['income']\n",
    "X = df[columns]\n",
    "n,m = X.shape \n",
    "print(X.shape)\n",
    "X0=X0.reshape(n,1)\n",
    "X1=X1.reshape(n,1)\n",
    "X2=X2.reshape(n,1)\n",
    "X3=X3.reshape(n,1)\n",
    "X4=X4.reshape(n,1)\n",
    "X5=X5.reshape(n,1)\n",
    "X6=X6.reshape(n,1)\n",
    "X7=X7.reshape(n,1)\n",
    "\n",
    "X=np.hstack((X,X0))\n",
    "X=np.hstack((X,X1))\n",
    "X=np.hstack((X,X2))\n",
    "X=np.hstack((X,X3))\n",
    "X=np.hstack((X,X4))\n",
    "X=np.hstack((X,X5))\n",
    "X=np.hstack((X,X6))\n",
    "X=np.hstack((X,X7))\n",
    "print(X)"
   ]
  },
  {
   "cell_type": "code",
   "execution_count": 67,
   "metadata": {},
   "outputs": [
    {
     "name": "stdout",
     "output_type": "stream",
     "text": [
      "[0 0 1 ... 0 0 1]\n"
     ]
    }
   ],
   "source": [
    "labels, uniques=pd.factorize(y)\n",
    "y=np.array(labels)\n",
    "print(y)\n"
   ]
  },
  {
   "cell_type": "code",
   "execution_count": 68,
   "metadata": {},
   "outputs": [],
   "source": [
    "from sklearn import preprocessing,cross_validation,neighbors\n",
    "import pandas as pd\n",
    "#split into train and test\n",
    "split = 0.2\n",
    "from sklearn.cross_validation import train_test_split\n",
    "X_train, X_test, y_train, y_test = cross_validation.train_test_split(X, y, test_size=split,random_state=21)"
   ]
  },
  {
   "cell_type": "markdown",
   "metadata": {},
   "source": [
    "## PCA"
   ]
  },
  {
   "cell_type": "code",
   "execution_count": 78,
   "metadata": {},
   "outputs": [
    {
     "name": "stdout",
     "output_type": "stream",
     "text": [
      "Reduction...\n"
     ]
    }
   ],
   "source": [
    "from sklearn.decomposition import PCA\n",
    "COMPONENT_NUM = 3\n",
    "train_label = y_train\n",
    "train_data = X_train\n",
    "test_label=y_test\n",
    "test_data=X_test\n",
    "print('Reduction...')\n",
    "pca = PCA(n_components=COMPONENT_NUM, whiten=True)\n",
    "pca.fit(train_data)\n",
    "train_data = pca.transform(train_data)\n",
    "X_train=train_data\n",
    "pca.fit(test_data)\n",
    "test_data = pca.transform(test_data)\n",
    "X_test=test_data\n"
   ]
  },
  {
   "cell_type": "code",
   "execution_count": 79,
   "metadata": {},
   "outputs": [],
   "source": [
    "#Generate plot\n",
    "def graph(label1):\n",
    "    import matplotlib.pyplot as plt\n",
    "    %matplotlib inline\n",
    "    plt.title('MLN')\n",
    "    plt.plot(a_epochs, a_loss, label=label1)\n",
    "    plt.legend()\n",
    "    plt.xlabel('Epoch')\n",
    "    plt.ylabel('Training set score')\n",
    "    plt.show()"
   ]
  },
  {
   "cell_type": "code",
   "execution_count": 80,
   "metadata": {},
   "outputs": [],
   "source": [
    "epochs=[10,20,30,40,50]\n",
    "m_batches=[200,250,300,350]"
   ]
  },
  {
   "cell_type": "code",
   "execution_count": 81,
   "metadata": {},
   "outputs": [
    {
     "name": "stderr",
     "output_type": "stream",
     "text": [
      "/home/paolo/anaconda3/lib/python3.6/site-packages/sklearn/neural_network/multilayer_perceptron.py:564: ConvergenceWarning: Stochastic Optimizer: Maximum iterations (10) reached and the optimization hasn't converged yet.\n",
      "  % self.max_iter, ConvergenceWarning)\n"
     ]
    },
    {
     "name": "stdout",
     "output_type": "stream",
     "text": [
      "Mini-batch: 200 - Epoch: 10 - Training set score: 0.771914\n",
      "Mini-batch: 200 - Epoch: 10 - Test set score: 0.767018\n",
      "[0.7670181185382332]\n",
      "[10]\n",
      "[200]\n"
     ]
    },
    {
     "name": "stderr",
     "output_type": "stream",
     "text": [
      "/home/paolo/anaconda3/lib/python3.6/site-packages/sklearn/neural_network/multilayer_perceptron.py:564: ConvergenceWarning: Stochastic Optimizer: Maximum iterations (20) reached and the optimization hasn't converged yet.\n",
      "  % self.max_iter, ConvergenceWarning)\n"
     ]
    },
    {
     "name": "stdout",
     "output_type": "stream",
     "text": [
      "Mini-batch: 200 - Epoch: 20 - Training set score: 0.796970\n",
      "Mini-batch: 200 - Epoch: 20 - Test set score: 0.793838\n",
      "[0.7670181185382332, 0.7938376497082609]\n",
      "[10, 20]\n",
      "[200, 200]\n"
     ]
    },
    {
     "name": "stderr",
     "output_type": "stream",
     "text": [
      "/home/paolo/anaconda3/lib/python3.6/site-packages/sklearn/neural_network/multilayer_perceptron.py:564: ConvergenceWarning: Stochastic Optimizer: Maximum iterations (30) reached and the optimization hasn't converged yet.\n",
      "  % self.max_iter, ConvergenceWarning)\n"
     ]
    },
    {
     "name": "stdout",
     "output_type": "stream",
     "text": [
      "Mini-batch: 200 - Epoch: 30 - Training set score: 0.798480\n",
      "Mini-batch: 200 - Epoch: 30 - Test set score: 0.801822\n",
      "[0.7670181185382332, 0.7938376497082609, 0.8018220902855973]\n",
      "[10, 20, 30]\n",
      "[200, 200, 200]\n"
     ]
    },
    {
     "name": "stderr",
     "output_type": "stream",
     "text": [
      "/home/paolo/anaconda3/lib/python3.6/site-packages/sklearn/neural_network/multilayer_perceptron.py:564: ConvergenceWarning: Stochastic Optimizer: Maximum iterations (40) reached and the optimization hasn't converged yet.\n",
      "  % self.max_iter, ConvergenceWarning)\n"
     ]
    },
    {
     "name": "stdout",
     "output_type": "stream",
     "text": [
      "Mini-batch: 200 - Epoch: 40 - Training set score: 0.800450\n",
      "Mini-batch: 200 - Epoch: 40 - Test set score: 0.805610\n",
      "[0.7670181185382332, 0.7938376497082609, 0.8018220902855973, 0.8056095813286928]\n",
      "[10, 20, 30, 40]\n",
      "[200, 200, 200, 200]\n"
     ]
    },
    {
     "name": "stderr",
     "output_type": "stream",
     "text": [
      "/home/paolo/anaconda3/lib/python3.6/site-packages/sklearn/neural_network/multilayer_perceptron.py:564: ConvergenceWarning: Stochastic Optimizer: Maximum iterations (50) reached and the optimization hasn't converged yet.\n",
      "  % self.max_iter, ConvergenceWarning)\n"
     ]
    },
    {
     "name": "stdout",
     "output_type": "stream",
     "text": [
      "Mini-batch: 200 - Epoch: 50 - Training set score: 0.799939\n",
      "Mini-batch: 200 - Epoch: 50 - Test set score: 0.806736\n",
      "[0.7670181185382332, 0.7938376497082609, 0.8018220902855973, 0.8056095813286928, 0.8067355921793428]\n",
      "[10, 20, 30, 40, 50]\n",
      "[200, 200, 200, 200, 200]\n",
      "Mini-batch: 250 - Epoch: 10 - Training set score: 0.767717\n",
      "Mini-batch: 250 - Epoch: 10 - Test set score: 0.765687\n",
      "[0.7670181185382332, 0.7938376497082609, 0.8018220902855973, 0.8056095813286928, 0.8067355921793428, 0.7656873784420104]\n",
      "[10, 20, 30, 40, 50, 10]\n",
      "[200, 200, 200, 200, 200, 250]\n",
      "Mini-batch: 250 - Epoch: 20 - Training set score: 0.786425\n",
      "Mini-batch: 250 - Epoch: 20 - Test set score: 0.783806\n",
      "[0.7670181185382332, 0.7938376497082609, 0.8018220902855973, 0.8056095813286928, 0.8067355921793428, 0.7656873784420104, 0.7838059166751971]\n",
      "[10, 20, 30, 40, 50, 10, 20]\n",
      "[200, 200, 200, 200, 200, 250, 250]\n",
      "Mini-batch: 250 - Epoch: 30 - Training set score: 0.799171\n",
      "Mini-batch: 250 - Epoch: 30 - Test set score: 0.799263\n",
      "[0.7670181185382332, 0.7938376497082609, 0.8018220902855973, 0.8056095813286928, 0.8067355921793428, 0.7656873784420104, 0.7838059166751971, 0.7992629747159382]\n",
      "[10, 20, 30, 40, 50, 10, 20, 30]\n",
      "[200, 200, 200, 200, 200, 250, 250, 250]\n",
      "Mini-batch: 250 - Epoch: 40 - Training set score: 0.800143\n",
      "Mini-batch: 250 - Epoch: 40 - Test set score: 0.802846\n",
      "[0.7670181185382332, 0.7938376497082609, 0.8018220902855973, 0.8056095813286928, 0.8067355921793428, 0.7656873784420104, 0.7838059166751971, 0.7992629747159382, 0.8028457365134609]\n",
      "[10, 20, 30, 40, 50, 10, 20, 30, 40]\n",
      "[200, 200, 200, 200, 200, 250, 250, 250, 250]\n",
      "Mini-batch: 250 - Epoch: 50 - Training set score: 0.800758\n",
      "Mini-batch: 250 - Epoch: 50 - Test set score: 0.806019\n",
      "[0.7670181185382332, 0.7938376497082609, 0.8018220902855973, 0.8056095813286928, 0.8067355921793428, 0.7656873784420104, 0.7838059166751971, 0.7992629747159382, 0.8028457365134609, 0.8060190398198382]\n",
      "[10, 20, 30, 40, 50, 10, 20, 30, 40, 50]\n",
      "[200, 200, 200, 200, 200, 250, 250, 250, 250, 250]\n",
      "Mini-batch: 300 - Epoch: 10 - Training set score: 0.767256\n",
      "Mini-batch: 300 - Epoch: 10 - Test set score: 0.765483\n",
      "[0.7670181185382332, 0.7938376497082609, 0.8018220902855973, 0.8056095813286928, 0.8067355921793428, 0.7656873784420104, 0.7838059166751971, 0.7992629747159382, 0.8028457365134609, 0.8060190398198382, 0.7654826491964377]\n",
      "[10, 20, 30, 40, 50, 10, 20, 30, 40, 50, 10]\n",
      "[200, 200, 200, 200, 200, 250, 250, 250, 250, 250, 300]\n",
      "Mini-batch: 300 - Epoch: 20 - Training set score: 0.782023\n",
      "Mini-batch: 300 - Epoch: 20 - Test set score: 0.780326\n",
      "[0.7670181185382332, 0.7938376497082609, 0.8018220902855973, 0.8056095813286928, 0.8067355921793428, 0.7656873784420104, 0.7838059166751971, 0.7992629747159382, 0.8028457365134609, 0.8060190398198382, 0.7654826491964377, 0.7803255195004607]\n",
      "[10, 20, 30, 40, 50, 10, 20, 30, 40, 50, 10, 20]\n",
      "[200, 200, 200, 200, 200, 250, 250, 250, 250, 250, 300, 300]\n",
      "Mini-batch: 300 - Epoch: 30 - Training set score: 0.797021\n",
      "Mini-batch: 300 - Epoch: 30 - Test set score: 0.793940\n",
      "[0.7670181185382332, 0.7938376497082609, 0.8018220902855973, 0.8056095813286928, 0.8067355921793428, 0.7656873784420104, 0.7838059166751971, 0.7992629747159382, 0.8028457365134609, 0.8060190398198382, 0.7654826491964377, 0.7803255195004607, 0.7939400143310472]\n",
      "[10, 20, 30, 40, 50, 10, 20, 30, 40, 50, 10, 20, 30]\n",
      "[200, 200, 200, 200, 200, 250, 250, 250, 250, 250, 300, 300, 300]\n",
      "Mini-batch: 300 - Epoch: 40 - Training set score: 0.798659\n",
      "Mini-batch: 300 - Epoch: 40 - Test set score: 0.800901\n",
      "[0.7670181185382332, 0.7938376497082609, 0.8018220902855973, 0.8056095813286928, 0.8067355921793428, 0.7656873784420104, 0.7838059166751971, 0.7992629747159382, 0.8028457365134609, 0.8060190398198382, 0.7654826491964377, 0.7803255195004607, 0.7939400143310472, 0.80090080868052]\n",
      "[10, 20, 30, 40, 50, 10, 20, 30, 40, 50, 10, 20, 30, 40]\n",
      "[200, 200, 200, 200, 200, 250, 250, 250, 250, 250, 300, 300, 300, 300]\n",
      "Mini-batch: 300 - Epoch: 50 - Training set score: 0.800527\n",
      "Mini-batch: 300 - Epoch: 50 - Test set score: 0.802948\n",
      "[0.7670181185382332, 0.7938376497082609, 0.8018220902855973, 0.8056095813286928, 0.8067355921793428, 0.7656873784420104, 0.7838059166751971, 0.7992629747159382, 0.8028457365134609, 0.8060190398198382, 0.7654826491964377, 0.7803255195004607, 0.7939400143310472, 0.80090080868052, 0.8029481011362473]\n",
      "[10, 20, 30, 40, 50, 10, 20, 30, 40, 50, 10, 20, 30, 40, 50]\n",
      "[200, 200, 200, 200, 200, 250, 250, 250, 250, 250, 300, 300, 300, 300, 300]\n",
      "Mini-batch: 350 - Epoch: 10 - Training set score: 0.766386\n",
      "Mini-batch: 350 - Epoch: 10 - Test set score: 0.764254\n",
      "[0.7670181185382332, 0.7938376497082609, 0.8018220902855973, 0.8056095813286928, 0.8067355921793428, 0.7656873784420104, 0.7838059166751971, 0.7992629747159382, 0.8028457365134609, 0.8060190398198382, 0.7654826491964377, 0.7803255195004607, 0.7939400143310472, 0.80090080868052, 0.8029481011362473, 0.7642542737230014]\n",
      "[10, 20, 30, 40, 50, 10, 20, 30, 40, 50, 10, 20, 30, 40, 50, 10]\n",
      "[200, 200, 200, 200, 200, 250, 250, 250, 250, 250, 300, 300, 300, 300, 300, 350]\n",
      "Mini-batch: 350 - Epoch: 20 - Training set score: 0.778005\n",
      "Mini-batch: 350 - Epoch: 20 - Test set score: 0.774388\n",
      "[0.7670181185382332, 0.7938376497082609, 0.8018220902855973, 0.8056095813286928, 0.8067355921793428, 0.7656873784420104, 0.7838059166751971, 0.7992629747159382, 0.8028457365134609, 0.8060190398198382, 0.7654826491964377, 0.7803255195004607, 0.7939400143310472, 0.80090080868052, 0.8029481011362473, 0.7642542737230014, 0.7743883713788514]\n",
      "[10, 20, 30, 40, 50, 10, 20, 30, 40, 50, 10, 20, 30, 40, 50, 10, 20]\n",
      "[200, 200, 200, 200, 200, 250, 250, 250, 250, 250, 300, 300, 300, 300, 300, 350, 350]\n",
      "Mini-batch: 350 - Epoch: 30 - Training set score: 0.789727\n",
      "Mini-batch: 350 - Epoch: 30 - Test set score: 0.785648\n",
      "[0.7670181185382332, 0.7938376497082609, 0.8018220902855973, 0.8056095813286928, 0.8067355921793428, 0.7656873784420104, 0.7838059166751971, 0.7992629747159382, 0.8028457365134609, 0.8060190398198382, 0.7654826491964377, 0.7803255195004607, 0.7939400143310472, 0.80090080868052, 0.8029481011362473, 0.7642542737230014, 0.7743883713788514, 0.7856484798853516]\n",
      "[10, 20, 30, 40, 50, 10, 20, 30, 40, 50, 10, 20, 30, 40, 50, 10, 20, 30]\n",
      "[200, 200, 200, 200, 200, 250, 250, 250, 250, 250, 300, 300, 300, 300, 300, 350, 350, 350]\n",
      "Mini-batch: 350 - Epoch: 40 - Training set score: 0.798864\n",
      "Mini-batch: 350 - Epoch: 40 - Test set score: 0.798956\n",
      "[0.7670181185382332, 0.7938376497082609, 0.8018220902855973, 0.8056095813286928, 0.8067355921793428, 0.7656873784420104, 0.7838059166751971, 0.7992629747159382, 0.8028457365134609, 0.8060190398198382, 0.7654826491964377, 0.7803255195004607, 0.7939400143310472, 0.80090080868052, 0.8029481011362473, 0.7642542737230014, 0.7743883713788514, 0.7856484798853516, 0.7989558808475791]\n",
      "[10, 20, 30, 40, 50, 10, 20, 30, 40, 50, 10, 20, 30, 40, 50, 10, 20, 30, 40]\n",
      "[200, 200, 200, 200, 200, 250, 250, 250, 250, 250, 300, 300, 300, 300, 300, 350, 350, 350, 350]\n",
      "Mini-batch: 350 - Epoch: 50 - Training set score: 0.798992\n",
      "Mini-batch: 350 - Epoch: 50 - Test set score: 0.801617\n",
      "[0.7670181185382332, 0.7938376497082609, 0.8018220902855973, 0.8056095813286928, 0.8067355921793428, 0.7656873784420104, 0.7838059166751971, 0.7992629747159382, 0.8028457365134609, 0.8060190398198382, 0.7654826491964377, 0.7803255195004607, 0.7939400143310472, 0.80090080868052, 0.8029481011362473, 0.7642542737230014, 0.7743883713788514, 0.7856484798853516, 0.7989558808475791, 0.8016173610400246]\n",
      "[10, 20, 30, 40, 50, 10, 20, 30, 40, 50, 10, 20, 30, 40, 50, 10, 20, 30, 40, 50]\n",
      "[200, 200, 200, 200, 200, 250, 250, 250, 250, 250, 300, 300, 300, 300, 300, 350, 350, 350, 350, 350]\n"
     ]
    }
   ],
   "source": [
    "import matplotlib.pyplot as plt\n",
    "from sklearn.neural_network import MLPClassifier\n",
    "a_loss=[]\n",
    "a_epochs=[]\n",
    "a_batches=[]\n",
    "for j in m_batches:\n",
    "    for epoch in epochs:\n",
    "        mlp = MLPClassifier(hidden_layer_sizes=(100,), max_iter=epoch, alpha=1e-4,\n",
    "                            solver='sgd', tol=1e-4, random_state=3,\n",
    "                            learning_rate_init=0.001,batch_size=j)\n",
    "\n",
    "        mlp.fit(X_train, y_train)\n",
    "        print(\"Mini-batch: %d - Epoch: %d - Training set score: %f\" % (j,epoch,mlp.score(X_train, y_train)))\n",
    "        print(\"Mini-batch: %d - Epoch: %d - Test set score: %f\" % (j,epoch,mlp.score(X_test, y_test)))\n",
    "        a_loss.append(mlp.score(X_test, y_test))\n",
    "        a_epochs.append(epoch)\n",
    "        a_batches.append(j)\n",
    "        print(a_loss)\n",
    "        print(a_epochs)\n",
    "        print(a_batches)\n"
   ]
  },
  {
   "cell_type": "code",
   "execution_count": 89,
   "metadata": {},
   "outputs": [
    {
     "name": "stdout",
     "output_type": "stream",
     "text": [
      "[10, 20, 30, 40, 50]\n",
      "[0.7670181185382332, 0.7938376497082609, 0.8018220902855973, 0.8056095813286928, 0.8067355921793428, 0.7656873784420104, 0.7838059166751971, 0.7992629747159382, 0.8028457365134609, 0.8060190398198382, 0.7654826491964377, 0.7803255195004607, 0.7939400143310472, 0.80090080868052, 0.8029481011362473, 0.7642542737230014, 0.7743883713788514, 0.7856484798853516, 0.7989558808475791, 0.8016173610400246]\n"
     ]
    },
    {
     "data": {
      "image/png": "[encoded data removed]",
      "text/plain": [
       "<Figure size 432x288 with 1 Axes>"
      ]
     },
     "metadata": {},
     "output_type": "display_data"
    }
   ],
   "source": [
    "import matplotlib.pyplot as plt\n",
    "%matplotlib inline\n",
    "print(a_epochs[:5])\n",
    "print(a_loss)\n",
    "plt.title('Adult dataset MLP')\n",
    "plt.plot(a_epochs[:5], a_loss[:5],'red', label=\"batch=200\")\n",
    "plt.plot(a_epochs[:5], a_loss[5:10],'blue', label=\"batch=250\")\n",
    "plt.plot(a_epochs[:5], a_loss[10:15],'black', label=\"batch=300\")\n",
    "plt.plot(a_epochs[:5], a_loss[15:],'green', label=\"batch=350\")\n",
    "\n",
    "\n",
    "plt.legend()\n",
    "plt.xlabel('Epoch')\n",
    "plt.ylabel('Training set score')\n",
    "plt.show()"
   ]
  },
  {
   "cell_type": "code",
   "execution_count": 87,
   "metadata": {},
   "outputs": [
    {
     "name": "stderr",
     "output_type": "stream",
     "text": [
      "/home/paolo/anaconda3/lib/python3.6/site-packages/sklearn/neural_network/multilayer_perceptron.py:564: ConvergenceWarning: Stochastic Optimizer: Maximum iterations (50) reached and the optimization hasn't converged yet.\n",
      "  % self.max_iter, ConvergenceWarning)\n"
     ]
    }
   ],
   "source": [
    "mlp = MLPClassifier(hidden_layer_sizes=(100,), max_iter=50, alpha=1e-4,\n",
    "                            solver='sgd', tol=1e-4, random_state=3,\n",
    "                            learning_rate_init=0.001,batch_size=200)\n",
    "mlp.fit(X_train, y_train)\n",
    "mlp.score(X_test, y_test)\n",
    "y_pred=mlp.predict(X_test)"
   ]
  },
  {
   "cell_type": "code",
   "execution_count": 88,
   "metadata": {},
   "outputs": [
    {
     "name": "stdout",
     "output_type": "stream",
     "text": [
      "Accuracy: 0.8067355921793428\n"
     ]
    }
   ],
   "source": [
    "from sklearn.metrics import accuracy_score\n",
    "print('Accuracy: {}'.format(accuracy_score(y_test, y_pred)))"
   ]
  },
  {
   "cell_type": "code",
   "execution_count": null,
   "metadata": {},
   "outputs": [],
   "source": []
  }
 ],
 "metadata": {
  "kernelspec": {
   "display_name": "Python 3",
   "language": "python",
   "name": "python3"
  },
  "language_info": {
   "codemirror_mode": {
    "name": "ipython",
    "version": 3
   },
   "file_extension": ".py",
   "mimetype": "text/x-python",
   "name": "python",
   "nbconvert_exporter": "python",
   "pygments_lexer": "ipython3",
   "version": "3.6.5"
  }
 },
 "nbformat": 4,
 "nbformat_minor": 2
}
